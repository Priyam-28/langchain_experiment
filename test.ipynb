{
 "cells": [
  {
   "cell_type": "code",
   "execution_count": null,
   "id": "a89b93e4",
   "metadata": {},
   "outputs": [],
   "source": [
    "pip install google-generativeai langchain langchain-community langchain-core\n"
   ]
  },
  {
   "cell_type": "code",
   "execution_count": null,
   "id": "23c36e13",
   "metadata": {},
   "outputs": [],
   "source": [
    "# 📌 Cell 2: Function to extract product links using Gemini\n",
    "\n",
    "def extract_product_links(page_text: str):\n",
    "    prompt = f\"\"\"\n",
    "You are an intelligent HTML parser. From the following HTML/text content of a Flipkart listing page,\n",
    "extract **only the product URLs** that go directly to individual product pages.\n",
    "\n",
    "Output only a clean list of links (https://...) — one per line, no additional text.\n",
    "\n"
   ]
  },
  {
   "cell_type": "code",
   "execution_count": null,
   "id": "ceea18d5",
   "metadata": {},
   "outputs": [],
   "source": [
    "# 📌 Cell 3: Use LangChain WebBaseLoader (or mock for now)\n",
    "from langchain_community.document_loaders import WebBaseLoader\n",
    "from langchain_core.documents import Document\n",
    "\n",
    "def webbase_load(url: str) -> Document:\n",
    "    try:\n",
    "        loader = WebBaseLoader(url)\n",
    "        docs = loader.load()\n",
    "        return docs[0]\n",
    "    except Exception as e:\n",
    "        print(f\"❌ Error loading {url}: {e}\")\n",
    "        return Document(page_content=\"\", metadata={\"source\": url})\n"
   ]
  }
 ],
 "metadata": {
  "kernelspec": {
   "display_name": "Python 3",
   "language": "python",
   "name": "python3"
  },
  "language_info": {
   "codemirror_mode": {
    "name": "ipython",
    "version": 3
   },
   "file_extension": ".py",
   "mimetype": "text/x-python",
   "name": "python",
   "nbconvert_exporter": "python",
   "pygments_lexer": "ipython3",
   "version": "3.12.5"
  }
 },
 "nbformat": 4,
 "nbformat_minor": 5
}
